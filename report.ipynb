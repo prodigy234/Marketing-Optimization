{
 "cells": [
  {
   "cell_type": "markdown",
   "id": "64dbc881",
   "metadata": {},
   "source": [
    "\n",
    "# Key Insights for Marketing Teams:\n",
    "\n",
    "**1. The overall campaign response rate is 15.39%.**\n",
    "\n",
    "**2. Campaign AcceptedCmp4 performed the best with an acceptance rate of 7.67%.**\n",
    "\n",
    "**3. Customer complaints are low (0.94%), but addressing them could improve satisfaction.**\n",
    "\n",
    "**4. Customers spend the most on wines, followed by meat products. Campaigns tailored around these categories may yield better results.**"
   ]
  }
 ],
 "metadata": {
  "language_info": {
   "name": "python"
  }
 },
 "nbformat": 4,
 "nbformat_minor": 5
}
